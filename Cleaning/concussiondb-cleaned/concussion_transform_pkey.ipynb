{
 "cells": [
  {
   "cell_type": "code",
   "execution_count": 2,
   "metadata": {},
   "outputs": [],
   "source": [
    "import pandas as pd"
   ]
  },
  {
   "cell_type": "code",
   "execution_count": 6,
   "metadata": {},
   "outputs": [],
   "source": [
    "concussion_start = pd.read_csv(r\"C:\\Users\\mroch\\Documents\\carleton-bootcamp\\challenge-files\\NHL_Concussion_Analysis\\Resources\\clean_concussion_data.csv\")"
   ]
  },
  {
   "cell_type": "code",
   "execution_count": 9,
   "metadata": {},
   "outputs": [
    {
     "data": {
      "text/plain": [
       "Unnamed: 0       int64\n",
       "Season           int64\n",
       "Team            object\n",
       "Position        object\n",
       "Player          object\n",
       "Games_Missed     int64\n",
       "dtype: object"
      ]
     },
     "execution_count": 9,
     "metadata": {},
     "output_type": "execute_result"
    }
   ],
   "source": [
    "concussion_start.dtypes"
   ]
  },
  {
   "cell_type": "code",
   "execution_count": 10,
   "metadata": {},
   "outputs": [
    {
     "data": {
      "text/html": [
       "<div>\n",
       "<style scoped>\n",
       "    .dataframe tbody tr th:only-of-type {\n",
       "        vertical-align: middle;\n",
       "    }\n",
       "\n",
       "    .dataframe tbody tr th {\n",
       "        vertical-align: top;\n",
       "    }\n",
       "\n",
       "    .dataframe thead th {\n",
       "        text-align: right;\n",
       "    }\n",
       "</style>\n",
       "<table border=\"1\" class=\"dataframe\">\n",
       "  <thead>\n",
       "    <tr style=\"text-align: right;\">\n",
       "      <th></th>\n",
       "      <th>Unnamed: 0</th>\n",
       "      <th>Season</th>\n",
       "      <th>Team</th>\n",
       "      <th>Position</th>\n",
       "      <th>Player</th>\n",
       "      <th>Games_Missed</th>\n",
       "      <th>pkey</th>\n",
       "    </tr>\n",
       "  </thead>\n",
       "  <tbody>\n",
       "    <tr>\n",
       "      <th>0</th>\n",
       "      <td>0</td>\n",
       "      <td>2012</td>\n",
       "      <td>BOS</td>\n",
       "      <td>F</td>\n",
       "      <td>Patrice Bergeron</td>\n",
       "      <td>6</td>\n",
       "      <td>2012Patrice Bergeron</td>\n",
       "    </tr>\n",
       "    <tr>\n",
       "      <th>1</th>\n",
       "      <td>1</td>\n",
       "      <td>2012</td>\n",
       "      <td>BOS</td>\n",
       "      <td>F</td>\n",
       "      <td>Brad Marchand</td>\n",
       "      <td>2</td>\n",
       "      <td>2012Brad Marchand</td>\n",
       "    </tr>\n",
       "    <tr>\n",
       "      <th>2</th>\n",
       "      <td>2</td>\n",
       "      <td>2012</td>\n",
       "      <td>BOS</td>\n",
       "      <td>F</td>\n",
       "      <td>Shawn Thornton</td>\n",
       "      <td>2</td>\n",
       "      <td>2012Shawn Thornton</td>\n",
       "    </tr>\n",
       "    <tr>\n",
       "      <th>3</th>\n",
       "      <td>3</td>\n",
       "      <td>2012</td>\n",
       "      <td>CAR</td>\n",
       "      <td>F</td>\n",
       "      <td>Chad LaRose</td>\n",
       "      <td>10</td>\n",
       "      <td>2012Chad LaRose</td>\n",
       "    </tr>\n",
       "    <tr>\n",
       "      <th>4</th>\n",
       "      <td>4</td>\n",
       "      <td>2012</td>\n",
       "      <td>CAR</td>\n",
       "      <td>F</td>\n",
       "      <td>Alexander Semin</td>\n",
       "      <td>2</td>\n",
       "      <td>2012Alexander Semin</td>\n",
       "    </tr>\n",
       "  </tbody>\n",
       "</table>\n",
       "</div>"
      ],
      "text/plain": [
       "   Unnamed: 0  Season Team Position            Player  Games_Missed  \\\n",
       "0           0    2012  BOS        F  Patrice Bergeron             6   \n",
       "1           1    2012  BOS        F     Brad Marchand             2   \n",
       "2           2    2012  BOS        F    Shawn Thornton             2   \n",
       "3           3    2012  CAR        F       Chad LaRose            10   \n",
       "4           4    2012  CAR        F   Alexander Semin             2   \n",
       "\n",
       "                   pkey  \n",
       "0  2012Patrice Bergeron  \n",
       "1     2012Brad Marchand  \n",
       "2    2012Shawn Thornton  \n",
       "3       2012Chad LaRose  \n",
       "4   2012Alexander Semin  "
      ]
     },
     "execution_count": 10,
     "metadata": {},
     "output_type": "execute_result"
    }
   ],
   "source": [
    "concussion_start[\"pkey\"] = (concussion_start[\"Season\"].astype(str) + concussion_start[\"Player\"])\n",
    "concussion_start.head()"
   ]
  },
  {
   "cell_type": "code",
   "execution_count": 11,
   "metadata": {},
   "outputs": [],
   "source": [
    "concussion_final = concussion_start[[\"pkey\", \"Season\", \"Player\", \"Team\", \"Position\", \"Games_Missed\"]].copy()"
   ]
  },
  {
   "cell_type": "code",
   "execution_count": 12,
   "metadata": {},
   "outputs": [
    {
     "data": {
      "text/html": [
       "<div>\n",
       "<style scoped>\n",
       "    .dataframe tbody tr th:only-of-type {\n",
       "        vertical-align: middle;\n",
       "    }\n",
       "\n",
       "    .dataframe tbody tr th {\n",
       "        vertical-align: top;\n",
       "    }\n",
       "\n",
       "    .dataframe thead th {\n",
       "        text-align: right;\n",
       "    }\n",
       "</style>\n",
       "<table border=\"1\" class=\"dataframe\">\n",
       "  <thead>\n",
       "    <tr style=\"text-align: right;\">\n",
       "      <th></th>\n",
       "      <th>pkey</th>\n",
       "      <th>Season</th>\n",
       "      <th>Player</th>\n",
       "      <th>Team</th>\n",
       "      <th>Position</th>\n",
       "      <th>Games_Missed</th>\n",
       "    </tr>\n",
       "  </thead>\n",
       "  <tbody>\n",
       "    <tr>\n",
       "      <th>0</th>\n",
       "      <td>2012Patrice Bergeron</td>\n",
       "      <td>2012</td>\n",
       "      <td>Patrice Bergeron</td>\n",
       "      <td>BOS</td>\n",
       "      <td>F</td>\n",
       "      <td>6</td>\n",
       "    </tr>\n",
       "    <tr>\n",
       "      <th>1</th>\n",
       "      <td>2012Brad Marchand</td>\n",
       "      <td>2012</td>\n",
       "      <td>Brad Marchand</td>\n",
       "      <td>BOS</td>\n",
       "      <td>F</td>\n",
       "      <td>2</td>\n",
       "    </tr>\n",
       "    <tr>\n",
       "      <th>2</th>\n",
       "      <td>2012Shawn Thornton</td>\n",
       "      <td>2012</td>\n",
       "      <td>Shawn Thornton</td>\n",
       "      <td>BOS</td>\n",
       "      <td>F</td>\n",
       "      <td>2</td>\n",
       "    </tr>\n",
       "    <tr>\n",
       "      <th>3</th>\n",
       "      <td>2012Chad LaRose</td>\n",
       "      <td>2012</td>\n",
       "      <td>Chad LaRose</td>\n",
       "      <td>CAR</td>\n",
       "      <td>F</td>\n",
       "      <td>10</td>\n",
       "    </tr>\n",
       "    <tr>\n",
       "      <th>4</th>\n",
       "      <td>2012Alexander Semin</td>\n",
       "      <td>2012</td>\n",
       "      <td>Alexander Semin</td>\n",
       "      <td>CAR</td>\n",
       "      <td>F</td>\n",
       "      <td>2</td>\n",
       "    </tr>\n",
       "  </tbody>\n",
       "</table>\n",
       "</div>"
      ],
      "text/plain": [
       "                   pkey  Season            Player Team Position  Games_Missed\n",
       "0  2012Patrice Bergeron    2012  Patrice Bergeron  BOS        F             6\n",
       "1     2012Brad Marchand    2012     Brad Marchand  BOS        F             2\n",
       "2    2012Shawn Thornton    2012    Shawn Thornton  BOS        F             2\n",
       "3       2012Chad LaRose    2012       Chad LaRose  CAR        F            10\n",
       "4   2012Alexander Semin    2012   Alexander Semin  CAR        F             2"
      ]
     },
     "execution_count": 12,
     "metadata": {},
     "output_type": "execute_result"
    }
   ],
   "source": [
    "concussion_final.head()"
   ]
  },
  {
   "cell_type": "code",
   "execution_count": 14,
   "metadata": {},
   "outputs": [],
   "source": [
    "concussion_final.to_csv(r\"C:\\Users\\mroch\\Documents\\carleton-bootcamp\\challenge-files\\NHL_Concussion_Analysis\\concussion_final.csv\")"
   ]
  }
 ],
 "metadata": {
  "kernelspec": {
   "display_name": "PythonData",
   "language": "python",
   "name": "python3"
  },
  "language_info": {
   "codemirror_mode": {
    "name": "ipython",
    "version": 3
   },
   "file_extension": ".py",
   "mimetype": "text/x-python",
   "name": "python",
   "nbconvert_exporter": "python",
   "pygments_lexer": "ipython3",
   "version": "3.7.15"
  },
  "orig_nbformat": 4
 },
 "nbformat": 4,
 "nbformat_minor": 2
}
