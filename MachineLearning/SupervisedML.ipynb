{
 "cells": [
  {
   "cell_type": "code",
   "execution_count": 18,
   "metadata": {},
   "outputs": [],
   "source": [
    "import pandas as pd\n",
    "import numpy as np\n",
    "from pathlib import Path\n",
    "import hvplot.pandas\n",
    "import matplotlib.pyplot as plt\n",
    "from sklearn.metrics import confusion_matrix, classification_report, balanced_accuracy_score, accuracy_score\n",
    "from sklearn.linear_model import LinearRegression\n",
    "from sklearn.model_selection import train_test_split\n",
    "from imblearn.ensemble import BalancedRandomForestClassifier, EasyEnsembleClassifier\n",
    "from imblearn.metrics import classification_report_imbalanced\n",
    "import pickle"
   ]
  },
  {
   "cell_type": "code",
   "execution_count": 19,
   "metadata": {},
   "outputs": [],
   "source": [
    "new_df = pd.read_csv(\"Resources/ML_player_dataset.csv\")"
   ]
  },
  {
   "cell_type": "code",
   "execution_count": 20,
   "metadata": {},
   "outputs": [
    {
     "data": {
      "text/html": [
       "<div>\n",
       "<style scoped>\n",
       "    .dataframe tbody tr th:only-of-type {\n",
       "        vertical-align: middle;\n",
       "    }\n",
       "\n",
       "    .dataframe tbody tr th {\n",
       "        vertical-align: top;\n",
       "    }\n",
       "\n",
       "    .dataframe thead th {\n",
       "        text-align: right;\n",
       "    }\n",
       "</style>\n",
       "<table border=\"1\" class=\"dataframe\">\n",
       "  <thead>\n",
       "    <tr style=\"text-align: right;\">\n",
       "      <th></th>\n",
       "      <th>season</th>\n",
       "      <th>name</th>\n",
       "      <th>team</th>\n",
       "      <th>position</th>\n",
       "      <th>games_played</th>\n",
       "      <th>corsi_percentage</th>\n",
       "      <th>fenwick_percentage</th>\n",
       "      <th>goals</th>\n",
       "      <th>points</th>\n",
       "      <th>penalty_minutes</th>\n",
       "      <th>hits</th>\n",
       "      <th>takeaways</th>\n",
       "      <th>giveaways</th>\n",
       "      <th>games_missed</th>\n",
       "      <th>points_per_game</th>\n",
       "      <th>PPGP</th>\n",
       "      <th>PPGN</th>\n",
       "    </tr>\n",
       "  </thead>\n",
       "  <tbody>\n",
       "    <tr>\n",
       "      <th>0</th>\n",
       "      <td>2013</td>\n",
       "      <td>Roman Josi</td>\n",
       "      <td>NSH</td>\n",
       "      <td>D</td>\n",
       "      <td>72</td>\n",
       "      <td>0.49</td>\n",
       "      <td>0.51</td>\n",
       "      <td>13</td>\n",
       "      <td>40</td>\n",
       "      <td>18</td>\n",
       "      <td>32</td>\n",
       "      <td>22</td>\n",
       "      <td>34</td>\n",
       "      <td>10</td>\n",
       "      <td>0.56</td>\n",
       "      <td>0.38</td>\n",
       "      <td>0.68</td>\n",
       "    </tr>\n",
       "    <tr>\n",
       "      <th>1</th>\n",
       "      <td>2013</td>\n",
       "      <td>Jonathan Huberdeau</td>\n",
       "      <td>FLA</td>\n",
       "      <td>L</td>\n",
       "      <td>69</td>\n",
       "      <td>0.56</td>\n",
       "      <td>0.54</td>\n",
       "      <td>9</td>\n",
       "      <td>28</td>\n",
       "      <td>37</td>\n",
       "      <td>73</td>\n",
       "      <td>32</td>\n",
       "      <td>21</td>\n",
       "      <td>11</td>\n",
       "      <td>0.41</td>\n",
       "      <td>0.65</td>\n",
       "      <td>0.68</td>\n",
       "    </tr>\n",
       "    <tr>\n",
       "      <th>2</th>\n",
       "      <td>2013</td>\n",
       "      <td>Tomas Kopecky</td>\n",
       "      <td>FLA</td>\n",
       "      <td>R</td>\n",
       "      <td>49</td>\n",
       "      <td>0.49</td>\n",
       "      <td>0.49</td>\n",
       "      <td>4</td>\n",
       "      <td>12</td>\n",
       "      <td>18</td>\n",
       "      <td>31</td>\n",
       "      <td>17</td>\n",
       "      <td>10</td>\n",
       "      <td>24</td>\n",
       "      <td>0.24</td>\n",
       "      <td>0.57</td>\n",
       "      <td>0.12</td>\n",
       "    </tr>\n",
       "    <tr>\n",
       "      <th>3</th>\n",
       "      <td>2013</td>\n",
       "      <td>Alexander Semin</td>\n",
       "      <td>CAR</td>\n",
       "      <td>R</td>\n",
       "      <td>65</td>\n",
       "      <td>0.60</td>\n",
       "      <td>0.59</td>\n",
       "      <td>22</td>\n",
       "      <td>42</td>\n",
       "      <td>42</td>\n",
       "      <td>22</td>\n",
       "      <td>49</td>\n",
       "      <td>56</td>\n",
       "      <td>12</td>\n",
       "      <td>0.65</td>\n",
       "      <td>1.00</td>\n",
       "      <td>0.33</td>\n",
       "    </tr>\n",
       "    <tr>\n",
       "      <th>4</th>\n",
       "      <td>2013</td>\n",
       "      <td>Loui Eriksson</td>\n",
       "      <td>BOS</td>\n",
       "      <td>L</td>\n",
       "      <td>61</td>\n",
       "      <td>0.59</td>\n",
       "      <td>0.58</td>\n",
       "      <td>10</td>\n",
       "      <td>37</td>\n",
       "      <td>6</td>\n",
       "      <td>12</td>\n",
       "      <td>31</td>\n",
       "      <td>17</td>\n",
       "      <td>15</td>\n",
       "      <td>0.61</td>\n",
       "      <td>0.60</td>\n",
       "      <td>0.58</td>\n",
       "    </tr>\n",
       "  </tbody>\n",
       "</table>\n",
       "</div>"
      ],
      "text/plain": [
       "   season                name team position  games_played  corsi_percentage  \\\n",
       "0    2013          Roman Josi  NSH        D            72              0.49   \n",
       "1    2013  Jonathan Huberdeau  FLA        L            69              0.56   \n",
       "2    2013       Tomas Kopecky  FLA        R            49              0.49   \n",
       "3    2013     Alexander Semin  CAR        R            65              0.60   \n",
       "4    2013       Loui Eriksson  BOS        L            61              0.59   \n",
       "\n",
       "   fenwick_percentage  goals  points  penalty_minutes  hits  takeaways  \\\n",
       "0                0.51     13      40               18    32         22   \n",
       "1                0.54      9      28               37    73         32   \n",
       "2                0.49      4      12               18    31         17   \n",
       "3                0.59     22      42               42    22         49   \n",
       "4                0.58     10      37                6    12         31   \n",
       "\n",
       "   giveaways  games_missed  points_per_game  PPGP  PPGN  \n",
       "0         34            10             0.56  0.38  0.68  \n",
       "1         21            11             0.41  0.65  0.68  \n",
       "2         10            24             0.24  0.57  0.12  \n",
       "3         56            12             0.65  1.00  0.33  \n",
       "4         17            15             0.61  0.60  0.58  "
      ]
     },
     "execution_count": 20,
     "metadata": {},
     "output_type": "execute_result"
    }
   ],
   "source": [
    "new_df.head()"
   ]
  },
  {
   "cell_type": "code",
   "execution_count": 21,
   "metadata": {},
   "outputs": [],
   "source": [
    "columns = [\n",
    "    \"name\", \"team\", \"position\", \"games_missed\", \"points_per_game\", \"PPGP\", \"PPGN\"\n",
    "]"
   ]
  },
  {
   "cell_type": "code",
   "execution_count": 22,
   "metadata": {},
   "outputs": [],
   "source": [
    "SuperML_df = new_df.loc[:, columns].copy()"
   ]
  },
  {
   "cell_type": "code",
   "execution_count": 23,
   "metadata": {},
   "outputs": [
    {
     "data": {
      "text/html": [
       "<div>\n",
       "<style scoped>\n",
       "    .dataframe tbody tr th:only-of-type {\n",
       "        vertical-align: middle;\n",
       "    }\n",
       "\n",
       "    .dataframe tbody tr th {\n",
       "        vertical-align: top;\n",
       "    }\n",
       "\n",
       "    .dataframe thead th {\n",
       "        text-align: right;\n",
       "    }\n",
       "</style>\n",
       "<table border=\"1\" class=\"dataframe\">\n",
       "  <thead>\n",
       "    <tr style=\"text-align: right;\">\n",
       "      <th></th>\n",
       "      <th>name</th>\n",
       "      <th>team</th>\n",
       "      <th>position</th>\n",
       "      <th>games_missed</th>\n",
       "      <th>points_per_game</th>\n",
       "      <th>PPGP</th>\n",
       "      <th>PPGN</th>\n",
       "    </tr>\n",
       "  </thead>\n",
       "  <tbody>\n",
       "    <tr>\n",
       "      <th>0</th>\n",
       "      <td>Roman Josi</td>\n",
       "      <td>NSH</td>\n",
       "      <td>D</td>\n",
       "      <td>10</td>\n",
       "      <td>0.56</td>\n",
       "      <td>0.38</td>\n",
       "      <td>0.68</td>\n",
       "    </tr>\n",
       "    <tr>\n",
       "      <th>1</th>\n",
       "      <td>Jonathan Huberdeau</td>\n",
       "      <td>FLA</td>\n",
       "      <td>L</td>\n",
       "      <td>11</td>\n",
       "      <td>0.41</td>\n",
       "      <td>0.65</td>\n",
       "      <td>0.68</td>\n",
       "    </tr>\n",
       "    <tr>\n",
       "      <th>2</th>\n",
       "      <td>Tomas Kopecky</td>\n",
       "      <td>FLA</td>\n",
       "      <td>R</td>\n",
       "      <td>24</td>\n",
       "      <td>0.24</td>\n",
       "      <td>0.57</td>\n",
       "      <td>0.12</td>\n",
       "    </tr>\n",
       "    <tr>\n",
       "      <th>3</th>\n",
       "      <td>Alexander Semin</td>\n",
       "      <td>CAR</td>\n",
       "      <td>R</td>\n",
       "      <td>12</td>\n",
       "      <td>0.65</td>\n",
       "      <td>1.00</td>\n",
       "      <td>0.33</td>\n",
       "    </tr>\n",
       "    <tr>\n",
       "      <th>4</th>\n",
       "      <td>Loui Eriksson</td>\n",
       "      <td>BOS</td>\n",
       "      <td>L</td>\n",
       "      <td>15</td>\n",
       "      <td>0.61</td>\n",
       "      <td>0.60</td>\n",
       "      <td>0.58</td>\n",
       "    </tr>\n",
       "  </tbody>\n",
       "</table>\n",
       "</div>"
      ],
      "text/plain": [
       "                 name team position  games_missed  points_per_game  PPGP  PPGN\n",
       "0          Roman Josi  NSH        D            10             0.56  0.38  0.68\n",
       "1  Jonathan Huberdeau  FLA        L            11             0.41  0.65  0.68\n",
       "2       Tomas Kopecky  FLA        R            24             0.24  0.57  0.12\n",
       "3     Alexander Semin  CAR        R            12             0.65  1.00  0.33\n",
       "4       Loui Eriksson  BOS        L            15             0.61  0.60  0.58"
      ]
     },
     "execution_count": 23,
     "metadata": {},
     "output_type": "execute_result"
    }
   ],
   "source": [
    "SuperML_df.head()"
   ]
  },
  {
   "cell_type": "code",
   "execution_count": 24,
   "metadata": {},
   "outputs": [
    {
     "data": {
      "image/png": "[encoded data removed]",
      "text/plain": [
       "<Figure size 640x480 with 1 Axes>"
      ]
     },
     "metadata": {},
     "output_type": "display_data"
    }
   ],
   "source": [
    "plt.scatter(SuperML_df.games_missed, SuperML_df.PPGN)\n",
    "plt.xlabel('Games Missed due to Concussion')\n",
    "plt.ylabel('Points per Game in the Season after the Concussion')\n",
    "plt.show()"
   ]
  },
  {
   "cell_type": "code",
   "execution_count": 25,
   "metadata": {},
   "outputs": [],
   "source": [
    "X = SuperML_df.games_missed.values.reshape(-1,1)"
   ]
  },
  {
   "cell_type": "code",
   "execution_count": 26,
   "metadata": {},
   "outputs": [
    {
     "data": {
      "text/plain": [
       "array([[10],\n",
       "       [11],\n",
       "       [24],\n",
       "       [12],\n",
       "       [15]], dtype=int64)"
      ]
     },
     "execution_count": 26,
     "metadata": {},
     "output_type": "execute_result"
    }
   ],
   "source": [
    "X[:5]"
   ]
  },
  {
   "cell_type": "code",
   "execution_count": 27,
   "metadata": {},
   "outputs": [
    {
     "data": {
      "text/plain": [
       "(59, 1)"
      ]
     },
     "execution_count": 27,
     "metadata": {},
     "output_type": "execute_result"
    }
   ],
   "source": [
    "X.shape"
   ]
  },
  {
   "cell_type": "code",
   "execution_count": 28,
   "metadata": {},
   "outputs": [],
   "source": [
    "pickle.dump(model, open('model.pkl', 'wb'))"
   ]
  },
  {
   "cell_type": "code",
   "execution_count": 29,
   "metadata": {},
   "outputs": [
    {
     "data": {
      "text/plain": [
       "LinearRegression()"
      ]
     },
     "execution_count": 29,
     "metadata": {},
     "output_type": "execute_result"
    }
   ],
   "source": [
    "y = SuperML_df['PPGN']\n",
    "# Fit the data to Linear Regression Model\n",
    "model = LinearRegression()\n",
    "model.fit(X, y)"
   ]
  },
  {
   "cell_type": "code",
   "execution_count": 30,
   "metadata": {},
   "outputs": [
    {
     "name": "stdout",
     "output_type": "stream",
     "text": [
      "(59,)\n"
     ]
    }
   ],
   "source": [
    "y_pred = model.predict(X)\n",
    "print(y_pred.shape)"
   ]
  },
  {
   "cell_type": "code",
   "execution_count": 31,
   "metadata": {},
   "outputs": [
    {
     "data": {
      "image/png": "[encoded data removed]",
      "text/plain": [
       "<Figure size 640x480 with 1 Axes>"
      ]
     },
     "metadata": {},
     "output_type": "display_data"
    }
   ],
   "source": [
    "# Scatter plot with line of best fit.\n",
    "plt.scatter(X, y)\n",
    "plt.plot(X, y_pred, color = 'red')\n",
    "plt.show()"
   ]
  },
  {
   "cell_type": "code",
   "execution_count": 32,
   "metadata": {},
   "outputs": [
    {
     "name": "stdout",
     "output_type": "stream",
     "text": [
      "[-0.0034805]\n",
      "0.4465116929400136\n"
     ]
    }
   ],
   "source": [
    "print(model.coef_)\n",
    "print(model.intercept_)"
   ]
  },
  {
   "cell_type": "code",
   "execution_count": null,
   "metadata": {},
   "outputs": [],
   "source": [
    "X_train, X_test, y_train, y_test = train_test_split(X, y, random_state=45, stratify=y)\n",
    "X_train.shape"
   ]
  },
  {
   "attachments": {},
   "cell_type": "markdown",
   "metadata": {},
   "source": [
    "Balanced Random Forest Classifier"
   ]
  },
  {
   "cell_type": "code",
   "execution_count": null,
   "metadata": {},
   "outputs": [],
   "source": [
    "# Resampling the training data with the BalancedRandomForestClassifier\n",
    "brfc_model = BalancedRandomForestClassifier(n_estimators=100, random_state=1)\n",
    "brfc_model.fit(X_train, y_train)"
   ]
  },
  {
   "cell_type": "code",
   "execution_count": null,
   "metadata": {},
   "outputs": [],
   "source": [
    "# Calculating the balanced accuracy score\n",
    "y_pred = brfc_model.predict(X_test)\n",
    "balanced_accuracy_score(y_test, y_pred)"
   ]
  },
  {
   "cell_type": "code",
   "execution_count": null,
   "metadata": {},
   "outputs": [],
   "source": [
    "# Displaying Confusion Matrix\n",
    "confusion_matrix(y_test, y_pred)"
   ]
  },
  {
   "attachments": {},
   "cell_type": "markdown",
   "metadata": {},
   "source": [
    "Easy Ensemble AdaBoost Classifier"
   ]
  },
  {
   "cell_type": "code",
   "execution_count": null,
   "metadata": {},
   "outputs": [],
   "source": [
    "# Training the EasyEnsemblerClassifier\n",
    "eec_model = EasyEnsembleClassifier(n_estimators=100, random_state=1)\n",
    "eec_model.fit(X_train, y_train)"
   ]
  },
  {
   "cell_type": "code",
   "execution_count": null,
   "metadata": {},
   "outputs": [
    {
     "data": {
      "text/plain": [
       "0.9583333333333333"
      ]
     },
     "execution_count": 66,
     "metadata": {},
     "output_type": "execute_result"
    }
   ],
   "source": [
    "# Calculating the balanced accuracy score\n",
    "y_pred = eec_model.predict(X_test)\n",
    "balanced_accuracy_score(y_test, y_pred)"
   ]
  },
  {
   "cell_type": "code",
   "execution_count": null,
   "metadata": {},
   "outputs": [
    {
     "data": {
      "text/plain": [
       "array([[11,  1],\n",
       "       [ 0, 13]], dtype=int64)"
      ]
     },
     "execution_count": 50,
     "metadata": {},
     "output_type": "execute_result"
    }
   ],
   "source": [
    "# Displaying the confusion matrix\n",
    "confusion_matrix(y_test, y_pred)"
   ]
  }
 ],
 "metadata": {
  "anaconda-cloud": {},
  "kernelspec": {
   "display_name": "PythonData",
   "language": "python",
   "name": "python3"
  },
  "language_info": {
   "codemirror_mode": {
    "name": "ipython",
    "version": 3
   },
   "file_extension": ".py",
   "mimetype": "text/x-python",
   "name": "python",
   "nbconvert_exporter": "python",
   "pygments_lexer": "ipython3",
   "version": "3.7.15"
  },
  "varInspector": {
   "cols": {
    "lenName": 16,
    "lenType": 16,
    "lenVar": 40
   },
   "kernels_config": {
    "python": {
     "delete_cmd_postfix": "",
     "delete_cmd_prefix": "del ",
     "library": "var_list.py",
     "varRefreshCmd": "print(var_dic_list())"
    },
    "r": {
     "delete_cmd_postfix": ") ",
     "delete_cmd_prefix": "rm(",
     "library": "var_list.r",
     "varRefreshCmd": "cat(var_dic_list()) "
    }
   },
   "types_to_exclude": [
    "module",
    "function",
    "builtin_function_or_method",
    "instance",
    "_Feature"
   ],
   "window_display": false
  }
 },
 "nbformat": 4,
 "nbformat_minor": 1
}
